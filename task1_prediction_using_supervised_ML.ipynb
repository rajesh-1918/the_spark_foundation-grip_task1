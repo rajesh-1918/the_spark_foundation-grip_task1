{
 "cells": [
  {
   "cell_type": "markdown",
   "id": "b5062b3d",
   "metadata": {},
   "source": [
    "# The Spark  Founation-GRIP: task1"
   ]
  },
  {
   "cell_type": "markdown",
   "id": "a6c14fa2",
   "metadata": {},
   "source": [
    "Author: Ganji Rajesh\n"
   ]
  },
  {
   "cell_type": "markdown",
   "id": "660f6127",
   "metadata": {},
   "source": [
    "Data Science & Business Analyst intern at The Spark Founadation"
   ]
  },
  {
   "cell_type": "markdown",
   "id": "91c0b1b4",
   "metadata": {},
   "source": [
    "# Task Description"
   ]
  },
  {
   "cell_type": "markdown",
   "id": "c299fd5e",
   "metadata": {},
   "source": [
    "predicting scores of students based on no. of study hours using linear regression"
   ]
  },
  {
   "cell_type": "markdown",
   "id": "a92835b0",
   "metadata": {},
   "source": [
    "data set source = https://raw.githubusercontent.com/AdiPersonalWorks/Random/master/student_scores%20-%20student_scores.csv"
   ]
  },
  {
   "cell_type": "code",
   "execution_count": 20,
   "id": "45a4677a",
   "metadata": {},
   "outputs": [],
   "source": [
    "#importing required libraries\n",
    "import pandas as pd\n",
    "import numpy as np\n",
    "import matplotlib.pyplot as plt\n",
    "%matplotlib inline"
   ]
  },
  {
   "cell_type": "markdown",
   "id": "12aad886",
   "metadata": {},
   "source": [
    "## Importing Data"
   ]
  },
  {
   "cell_type": "code",
   "execution_count": 104,
   "id": "23412420",
   "metadata": {},
   "outputs": [
    {
     "data": {
      "text/html": [
       "<div>\n",
       "<style scoped>\n",
       "    .dataframe tbody tr th:only-of-type {\n",
       "        vertical-align: middle;\n",
       "    }\n",
       "\n",
       "    .dataframe tbody tr th {\n",
       "        vertical-align: top;\n",
       "    }\n",
       "\n",
       "    .dataframe thead th {\n",
       "        text-align: right;\n",
       "    }\n",
       "</style>\n",
       "<table border=\"1\" class=\"dataframe\">\n",
       "  <thead>\n",
       "    <tr style=\"text-align: right;\">\n",
       "      <th></th>\n",
       "      <th>Hours</th>\n",
       "      <th>Scores</th>\n",
       "    </tr>\n",
       "  </thead>\n",
       "  <tbody>\n",
       "    <tr>\n",
       "      <th>0</th>\n",
       "      <td>2.5</td>\n",
       "      <td>21</td>\n",
       "    </tr>\n",
       "    <tr>\n",
       "      <th>1</th>\n",
       "      <td>5.1</td>\n",
       "      <td>47</td>\n",
       "    </tr>\n",
       "    <tr>\n",
       "      <th>2</th>\n",
       "      <td>3.2</td>\n",
       "      <td>27</td>\n",
       "    </tr>\n",
       "    <tr>\n",
       "      <th>3</th>\n",
       "      <td>8.5</td>\n",
       "      <td>75</td>\n",
       "    </tr>\n",
       "    <tr>\n",
       "      <th>4</th>\n",
       "      <td>3.5</td>\n",
       "      <td>30</td>\n",
       "    </tr>\n",
       "  </tbody>\n",
       "</table>\n",
       "</div>"
      ],
      "text/plain": [
       "   Hours  Scores\n",
       "0    2.5      21\n",
       "1    5.1      47\n",
       "2    3.2      27\n",
       "3    8.5      75\n",
       "4    3.5      30"
      ]
     },
     "execution_count": 104,
     "metadata": {},
     "output_type": "execute_result"
    }
   ],
   "source": [
    "link=\"https://raw.githubusercontent.com/AdiPersonalWorks/Random/master/student_scores%20-%20student_scores.csv\"\n",
    "data_s=pd.read_csv(link)\n",
    "\n",
    "data_s.head(5)\n"
   ]
  },
  {
   "cell_type": "markdown",
   "id": "3f900fc3",
   "metadata": {},
   "source": [
    "Drawing graph to find relationship between variables"
   ]
  },
  {
   "cell_type": "code",
   "execution_count": 24,
   "id": "5b9ab8a7",
   "metadata": {},
   "outputs": [
    {
     "data": {
      "image/png": "[encoded data removed]",
      "text/plain": [
       "<Figure size 432x288 with 1 Axes>"
      ]
     },
     "metadata": {
      "needs_background": "light"
     },
     "output_type": "display_data"
    }
   ],
   "source": [
    "#plotting graph\n",
    "\n",
    "data_s.plot(x='Hours', y='Scores', style='o')  \n",
    "plt.title('Hours vs scores')  \n",
    "plt.xlabel('Hours Studied')  \n",
    "plt.ylabel('obtained Score')  \n",
    "plt.show()"
   ]
  },
  {
   "cell_type": "markdown",
   "id": "adfd194e",
   "metadata": {},
   "source": [
    "from above graph we can see positive linear relationship between two variables"
   ]
  },
  {
   "cell_type": "markdown",
   "id": "a2da763e",
   "metadata": {},
   "source": [
    "## splitting data as train data and test data"
   ]
  },
  {
   "cell_type": "code",
   "execution_count": 26,
   "id": "fc8eb991",
   "metadata": {},
   "outputs": [],
   "source": [
    "from sklearn.model_selection import train_test_split"
   ]
  },
  {
   "cell_type": "code",
   "execution_count": 27,
   "id": "a5c99882",
   "metadata": {},
   "outputs": [],
   "source": [
    "X=data_s[['Hours']]\n",
    "Y=data_s[['Scores']]"
   ]
  },
  {
   "cell_type": "code",
   "execution_count": 28,
   "id": "c5cc9026",
   "metadata": {},
   "outputs": [],
   "source": [
    "X_train,X_test,Y_train,Y_test = train_test_split(X,Y,test_size=0.15,random_state=0)"
   ]
  },
  {
   "cell_type": "markdown",
   "id": "01c33bb6",
   "metadata": {},
   "source": [
    "## Training Model"
   ]
  },
  {
   "cell_type": "code",
   "execution_count": 32,
   "id": "96ce4c70",
   "metadata": {},
   "outputs": [
    {
     "data": {
      "text/plain": [
       "LinearRegression()"
      ]
     },
     "execution_count": 32,
     "metadata": {},
     "output_type": "execute_result"
    }
   ],
   "source": [
    "from sklearn.linear_model import LinearRegression\n",
    "\n",
    "lr=LinearRegression()\n",
    "\n",
    "lr.fit(X_train,Y_train)"
   ]
  },
  {
   "cell_type": "markdown",
   "id": "7bbd95cb",
   "metadata": {},
   "source": [
    "## Testing Model"
   ]
  },
  {
   "cell_type": "code",
   "execution_count": 35,
   "id": "eadd9025",
   "metadata": {},
   "outputs": [],
   "source": [
    "Y_predict=lr.predict(X_test)"
   ]
  },
  {
   "cell_type": "code",
   "execution_count": 51,
   "id": "2b398ac8",
   "metadata": {},
   "outputs": [
    {
     "data": {
      "text/plain": [
       "array([[16.92714815],\n",
       "       [33.7882695 ],\n",
       "       [75.44515755],\n",
       "       [26.84545482]])"
      ]
     },
     "execution_count": 51,
     "metadata": {},
     "output_type": "execute_result"
    }
   ],
   "source": [
    "Y_predict"
   ]
  },
  {
   "cell_type": "markdown",
   "id": "cfd11340",
   "metadata": {},
   "source": [
    "finding intercept value"
   ]
  },
  {
   "cell_type": "code",
   "execution_count": 98,
   "id": "dffafff0",
   "metadata": {},
   "outputs": [
    {
     "data": {
      "text/plain": [
       "array([2.04968813])"
      ]
     },
     "execution_count": 98,
     "metadata": {},
     "output_type": "execute_result"
    }
   ],
   "source": [
    "lr.intercept_\n"
   ]
  },
  {
   "cell_type": "markdown",
   "id": "190d0a0e",
   "metadata": {},
   "source": [
    "finding slope value"
   ]
  },
  {
   "cell_type": "code",
   "execution_count": 99,
   "id": "b38a4d02",
   "metadata": {},
   "outputs": [
    {
     "data": {
      "text/plain": [
       "array([[9.91830668]])"
      ]
     },
     "execution_count": 99,
     "metadata": {},
     "output_type": "execute_result"
    }
   ],
   "source": [
    "lr.coef_"
   ]
  },
  {
   "cell_type": "code",
   "execution_count": 63,
   "id": "07ee0749",
   "metadata": {},
   "outputs": [
    {
     "data": {
      "text/html": [
       "<div>\n",
       "<style scoped>\n",
       "    .dataframe tbody tr th:only-of-type {\n",
       "        vertical-align: middle;\n",
       "    }\n",
       "\n",
       "    .dataframe tbody tr th {\n",
       "        vertical-align: top;\n",
       "    }\n",
       "\n",
       "    .dataframe thead th {\n",
       "        text-align: right;\n",
       "    }\n",
       "</style>\n",
       "<table border=\"1\" class=\"dataframe\">\n",
       "  <thead>\n",
       "    <tr style=\"text-align: right;\">\n",
       "      <th></th>\n",
       "      <th>actuals</th>\n",
       "      <th>predicted</th>\n",
       "    </tr>\n",
       "  </thead>\n",
       "  <tbody>\n",
       "    <tr>\n",
       "      <th>0</th>\n",
       "      <td>Scores\n",
       "5       20\n",
       "2       27\n",
       "19      69\n",
       "16...</td>\n",
       "      <td>[[16.92714814644115], [33.78826949962361], [75...</td>\n",
       "    </tr>\n",
       "  </tbody>\n",
       "</table>\n",
       "</div>"
      ],
      "text/plain": [
       "                                             actuals  \\\n",
       "0      Scores\n",
       "5       20\n",
       "2       27\n",
       "19      69\n",
       "16...   \n",
       "\n",
       "                                           predicted  \n",
       "0  [[16.92714814644115], [33.78826949962361], [75...  "
      ]
     },
     "execution_count": 63,
     "metadata": {},
     "output_type": "execute_result"
    }
   ],
   "source": [
    "a=Y_test\n",
    "b=Y_predict\n",
    "tab=pd.DataFrame({'actuals':[a],'predicted':[b]})\n",
    "tab"
   ]
  },
  {
   "cell_type": "markdown",
   "id": "c00a9130",
   "metadata": {},
   "source": [
    "Testing the model with 9.25 hours/day as input"
   ]
  },
  {
   "cell_type": "code",
   "execution_count": 89,
   "id": "a7765899",
   "metadata": {},
   "outputs": [
    {
     "name": "stdout",
     "output_type": "stream",
     "text": [
      "no. of hours = 9.25\n",
      "predicted score= [[93.7940249]]\n"
     ]
    }
   ],
   "source": [
    "#testing model with 9.25 hours\n",
    "#reshaping \n",
    "hours_o=np.array(9.25).reshape(1,-1)\n",
    "pred_o=lr.predict(hours_o)\n",
    "print(\"no. of hours =\",9.25)\n",
    "print(\"predicted score=\",(pred_o))"
   ]
  },
  {
   "cell_type": "markdown",
   "id": "ce33b0ee",
   "metadata": {},
   "source": [
    "## Evaluating \n"
   ]
  },
  {
   "cell_type": "markdown",
   "id": "1f961d8f",
   "metadata": {},
   "source": [
    "calculating R square value"
   ]
  },
  {
   "cell_type": "code",
   "execution_count": 102,
   "id": "fc35df09",
   "metadata": {},
   "outputs": [
    {
     "name": "stdout",
     "output_type": "stream",
     "text": [
      "R square value =  0.9516157390656382\n"
     ]
    }
   ],
   "source": [
    "print(\"R square value = \", lr.score(X_train,Y_train))"
   ]
  },
  {
   "cell_type": "markdown",
   "id": "da3fc3d7",
   "metadata": {},
   "source": [
    "calculating MSE"
   ]
  },
  {
   "cell_type": "code",
   "execution_count": 103,
   "id": "f4659f0e",
   "metadata": {},
   "outputs": [
    {
     "name": "stdout",
     "output_type": "stream",
     "text": [
      "MSE = 4.8652060192653295\n"
     ]
    }
   ],
   "source": [
    "from sklearn import metrics\n",
    "\n",
    "print('MSE =', metrics.mean_absolute_error(Y_test,Y_predict))"
   ]
  },
  {
   "cell_type": "markdown",
   "id": "4218440e",
   "metadata": {},
   "source": [
    "                                                    Thank You"
   ]
  }
 ],
 "metadata": {
  "kernelspec": {
   "display_name": "Python 3 (ipykernel)",
   "language": "python",
   "name": "python3"
  },
  "language_info": {
   "codemirror_mode": {
    "name": "ipython",
    "version": 3
   },
   "file_extension": ".py",
   "mimetype": "text/x-python",
   "name": "python",
   "nbconvert_exporter": "python",
   "pygments_lexer": "ipython3",
   "version": "3.9.7"
  }
 },
 "nbformat": 4,
 "nbformat_minor": 5
}
